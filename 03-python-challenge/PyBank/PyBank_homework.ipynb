{
 "cells": [
  {
   "cell_type": "code",
   "execution_count": 1,
   "metadata": {},
   "outputs": [],
   "source": [
    "# Import dependencies\n",
    "import os\n",
    "import csv"
   ]
  },
  {
   "cell_type": "code",
   "execution_count": 2,
   "metadata": {},
   "outputs": [],
   "source": [
    "# Set variables\n",
    "total_months = 0\n",
    "total_rev = []\n",
    "net_profit = 0\n",
    "greatest_inc = 0\n",
    "greatest_dec = 0\n",
    "greatest_inc_date = \"\"\n",
    "greatest_dec_date = \"\""
   ]
  },
  {
   "cell_type": "code",
   "execution_count": 5,
   "metadata": {},
   "outputs": [],
   "source": [
    "# Read csv and skip header row before counting months\n",
    "csvpath = os.path.join(\"budget_data.csv\")\n",
    "with open('budget_data.csv', newline='') as csvfile:\n",
    "    csvreader = csv.reader(csvfile, delimiter =',')\n",
    "    csv_header = next(csvfile)\n",
    "    for row in csvreader:\n",
    "        total_months = total_months + 1\n",
    "        total_rev.append(float(row[1]))\n",
    "        if int(row[1]) >= greatest_inc:\n",
    "            greatest_inc = int(row[1])\n",
    "            greatest_inc_date = row[0]\n",
    "        if int(row[1]) <= greatest_dec:\n",
    "            greatest_dec = int(row[1])\n",
    "            greatest_dec_date = row[0]"
   ]
  },
  {
   "cell_type": "code",
   "execution_count": 6,
   "metadata": {},
   "outputs": [],
   "source": [
    "# Calculate the average revenue change\n",
    "net_profit = sum(total_rev)\n",
    "average_change = round(sum(total_rev)/total_months, 2)"
   ]
  },
  {
   "cell_type": "code",
   "execution_count": 7,
   "metadata": {},
   "outputs": [
    {
     "name": "stdout",
     "output_type": "stream",
     "text": [
      "Financial Analysis\n",
      "--------------------------------------------\n",
      "Total Months: 86\n",
      "Total: 38382578.0\n",
      "Average Revenue Change: $446309.05\n",
      "Greatest Increase in Revenue: Feb-12 ($1170593)\n",
      "Greatest Decrease in Revenue: Sep-13 ($-1196225)\n"
     ]
    }
   ],
   "source": [
    "# Print the final financial analysis\n",
    "print(\"Financial Analysis\")\n",
    "print(\"--------------------------------------------\")    \n",
    "print(\"Total Months: \" + str(total_months))\n",
    "print(f\"Total: {net_profit}\")\n",
    "print(\"Average Revenue Change: $\" + str(average_change))\n",
    "print(\"Greatest Increase in Revenue: \" + greatest_inc_date + \" ($\" + str(greatest_inc) + \")\")\n",
    "print(\"Greatest Decrease in Revenue: \" + greatest_dec_date + \" ($\" + str(greatest_dec) + \")\")"
   ]
  },
  {
   "cell_type": "code",
   "execution_count": 11,
   "metadata": {},
   "outputs": [
    {
     "data": {
      "text/plain": [
       "49"
      ]
     },
     "execution_count": 11,
     "metadata": {},
     "output_type": "execute_result"
    }
   ],
   "source": [
    "# Create text file and write the analysis to it\n",
    "financial_analysis = open('analysis_final.txt', 'w')\n",
    "\n",
    "financial_analysis.write(\"Financial Analysis \\n\")\n",
    "financial_analysis.write(\"-------------------------------------------- \\n\")\n",
    "financial_analysis.write(\"Total Months: \" + str(total_months) + \"\\n\")\n",
    "financial_analysis.write(\"Total Revenue: $\" + str(sum(total_rev)) + \"\\n\")\n",
    "financial_analysis.write(\"Average Revenue Change: $\" + str(average_change) + \"\\n\")\n",
    "financial_analysis.write(\"Greatest Increase in Revenue: \" + greatest_inc_date + \" ($\" + str(greatest_inc) + \")\" + \"\\n\")\n",
    "financial_analysis.write(\"Greatest Decrease in Revenue: \" + greatest_dec_date + \" ($\" + str(greatest_dec) + \")\" + \"\\n\")"
   ]
  },
  {
   "cell_type": "code",
   "execution_count": null,
   "metadata": {},
   "outputs": [],
   "source": []
  }
 ],
 "metadata": {
  "kernelspec": {
   "display_name": "Python [default]",
   "language": "python",
   "name": "python3"
  },
  "language_info": {
   "codemirror_mode": {
    "name": "ipython",
    "version": 3
   },
   "file_extension": ".py",
   "mimetype": "text/x-python",
   "name": "python",
   "nbconvert_exporter": "python",
   "pygments_lexer": "ipython3",
   "version": "3.6.5"
  }
 },
 "nbformat": 4,
 "nbformat_minor": 2
}
