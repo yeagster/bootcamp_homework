{
 "cells": [
  {
   "cell_type": "code",
   "execution_count": 4,
   "metadata": {},
   "outputs": [],
   "source": [
    "# Import dependencies\n",
    "import os\n",
    "import csv"
   ]
  },
  {
   "cell_type": "code",
   "execution_count": 5,
   "metadata": {},
   "outputs": [],
   "source": [
    "# Set variables\n",
    "total_votes = 0\n",
    "candidates = {}\n",
    "num_votes = []\n",
    "vote_count = 0\n",
    "candidates_percent = {}\n",
    "winner = \"\"\n",
    "winner_count = 0"
   ]
  },
  {
   "cell_type": "code",
   "execution_count": 6,
   "metadata": {},
   "outputs": [],
   "source": [
    "# Read csv and skip header row before counting votes\n",
    "csvpath = os.path.join(\"election_data.csv\")\n",
    "with open('election_data.csv', newline='') as csvfile:\n",
    "    csvreader = csv.reader(csvfile, delimiter =',')\n",
    "    csv_header = next(csvfile)\n",
    "    for row in csvreader:\n",
    "        total_votes = total_votes + 1\n",
    "        vote_count = vote_count + 1\n",
    "        if row[2] in candidates.keys():\n",
    "            candidates[row[2]] += 1\n",
    "        else:\n",
    "            candidates[row[2]] = 1"
   ]
  },
  {
   "cell_type": "code",
   "execution_count": 7,
   "metadata": {},
   "outputs": [],
   "source": [
    "# Find percentage of votes for each candidate and then find the winner\n",
    "for key, value in candidates.items():\n",
    "    candidates_percent[key] = round((value/vote_count) * 100, 2)\n",
    "for key in candidates.keys():\n",
    "    if candidates[key] > winner_count:\n",
    "        winner = key\n",
    "        winner_count = candidates[key]"
   ]
  },
  {
   "cell_type": "code",
   "execution_count": 8,
   "metadata": {},
   "outputs": [
    {
     "name": "stdout",
     "output_type": "stream",
     "text": [
      "Election Results\n",
      "-------------------------------------\n",
      "Total Votes: 1048575\n",
      "-------------------------------------\n",
      "Khan: 63.09% (661583)\n",
      "Correy: 19.94% (209046)\n",
      "Li: 13.96% (146360)\n",
      "O'Tooley: 3.01% (31586)\n",
      "-------------------------------------\n",
      "Winner: Khan\n",
      "-------------------------------------\n"
     ]
    }
   ],
   "source": [
    "# Print the final election analysis\n",
    "print(\"Election Results\")\n",
    "print(\"-------------------------------------\")\n",
    "print(\"Total Votes: \" + str(total_votes))\n",
    "print(\"-------------------------------------\")\n",
    "for key, value in candidates.items():\n",
    "    print(key + \": \" + str(candidates_percent[key]) + \"% (\" + str(value) + \")\")\n",
    "print(\"-------------------------------------\")\n",
    "print(\"Winner: \" + winner)\n",
    "print(\"-------------------------------------\")"
   ]
  },
  {
   "cell_type": "code",
   "execution_count": 10,
   "metadata": {},
   "outputs": [
    {
     "data": {
      "text/plain": [
       "39"
      ]
     },
     "execution_count": 10,
     "metadata": {},
     "output_type": "execute_result"
    }
   ],
   "source": [
    "# Create text file and write the analysis to it\n",
    "election_analysis = open('analysis_final.txt', 'w')\n",
    "\n",
    "election_analysis.write(\"Election Results \\n\")\n",
    "election_analysis.write(\"------------------------------------- \\n\")\n",
    "election_analysis.write(\"Total Votes: \" + str(total_votes) + \"\\n\")\n",
    "election_analysis.write(\"------------------------------------- \\n\")\n",
    "for key, value in candidates.items():\n",
    "    election_analysis.write(key + \": \" + str(candidates_percent[key]) + \"% (\" + str(value) + \") \\n\")\n",
    "election_analysis.write(\"------------------------------------- \\n\")\n",
    "election_analysis.write(\"Winner: \" + winner + \"\\n\")\n",
    "election_analysis.write(\"------------------------------------- \\n\")"
   ]
  },
  {
   "cell_type": "code",
   "execution_count": null,
   "metadata": {},
   "outputs": [],
   "source": []
  }
 ],
 "metadata": {
  "kernelspec": {
   "display_name": "Python [conda env:Anaconda3]",
   "language": "python",
   "name": "conda-env-Anaconda3-py"
  },
  "language_info": {
   "codemirror_mode": {
    "name": "ipython",
    "version": 3
   },
   "file_extension": ".py",
   "mimetype": "text/x-python",
   "name": "python",
   "nbconvert_exporter": "python",
   "pygments_lexer": "ipython3",
   "version": "3.6.5"
  }
 },
 "nbformat": 4,
 "nbformat_minor": 2
}
